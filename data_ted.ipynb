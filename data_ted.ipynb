{
 "cells": [
  {
   "cell_type": "markdown",
   "metadata": {},
   "source": [
    "# Data Ted\n",
    "## An Analysis of the provided Ted Talks dataset\n",
    "---\n",
    "#### Matano Francesco S5253162\n",
    "#### Vassallo Edoardo S4965918 "
   ]
  },
  {
   "cell_type": "markdown",
   "metadata": {},
   "source": [
    "## Introduction\n",
    "\n",
    "We gaming boys\n"
   ]
  },
  {
   "cell_type": "markdown",
   "metadata": {},
   "source": [
    "## Imports\n"
   ]
  },
  {
   "cell_type": "code",
   "execution_count": 1,
   "metadata": {},
   "outputs": [
    {
     "name": "stderr",
     "output_type": "stream",
     "text": [
      "/usr/lib/python3/dist-packages/scipy/__init__.py:146: UserWarning: A NumPy version >=1.17.3 and <1.25.0 is required for this version of SciPy (detected version 1.26.4\n",
      "  warnings.warn(f\"A NumPy version >={np_minversion} and <{np_maxversion}\"\n"
     ]
    }
   ],
   "source": [
    "import pandas as pd \n",
    "import matplotlib.pyplot as plt \n",
    "import numpy as np\n",
    "import scipy.stats as stats\n",
    "import sklearn"
   ]
  },
  {
   "cell_type": "code",
   "execution_count": 2,
   "metadata": {},
   "outputs": [],
   "source": [
    "\n",
    "daTed = pd.read_csv(\"data_ted.csv\") # data_ted.csv\")"
   ]
  },
  {
   "cell_type": "code",
   "execution_count": 3,
   "metadata": {},
   "outputs": [
    {
     "name": "stdout",
     "output_type": "stream",
     "text": [
      "<class 'pandas.core.frame.DataFrame'>\n",
      "RangeIndex: 5440 entries, 0 to 5439\n",
      "Data columns (total 6 columns):\n",
      " #   Column  Non-Null Count  Dtype \n",
      "---  ------  --------------  ----- \n",
      " 0   title   5440 non-null   object\n",
      " 1   author  5439 non-null   object\n",
      " 2   date    5440 non-null   object\n",
      " 3   views   5440 non-null   int64 \n",
      " 4   likes   5440 non-null   int64 \n",
      " 5   link    5440 non-null   object\n",
      "dtypes: int64(2), object(4)\n",
      "memory usage: 255.1+ KB\n"
     ]
    }
   ],
   "source": [
    "daTed.info()"
   ]
  },
  {
   "cell_type": "markdown",
   "metadata": {},
   "source": [
    "> ## 0. Objectives\n",
    ">> ###  ????? (ancora da definire)"
   ]
  },
  {
   "cell_type": "markdown",
   "metadata": {},
   "source": [
    "## 1. Spring Cleaning\n",
    "+ Debby Millman 2020 June correct date\n",
    "+ Innovations in sleep 2020 July\n",
    "+ Substitute Nan author with Ted (1 row)"
   ]
  },
  {
   "cell_type": "code",
   "execution_count": 4,
   "metadata": {},
   "outputs": [
    {
     "name": "stdout",
     "output_type": "stream",
     "text": [
      "                   title author           date  views  likes  \\\n",
      "3039  Year In Ideas 2015    Ted  December 2015    532     15   \n",
      "\n",
      "                                          link  \n",
      "3039  https://ted.com/talks/year_in_ideas_2015  \n"
     ]
    }
   ],
   "source": [
    "i = daTed['author'].isnull()\n",
    "daTed['author'] = np.where(daTed['author'].isnull() == True, 'Ted',  daTed['author'])\n",
    "for x in range(len(i)):\n",
    "    if (i[x] == True):\n",
    "        print(daTed[i])\n"
   ]
  },
  {
   "cell_type": "code",
   "execution_count": 33,
   "metadata": {},
   "outputs": [
    {
     "data": {
      "text/html": [
       "<div>\n",
       "<style scoped>\n",
       "    .dataframe tbody tr th:only-of-type {\n",
       "        vertical-align: middle;\n",
       "    }\n",
       "\n",
       "    .dataframe tbody tr th {\n",
       "        vertical-align: top;\n",
       "    }\n",
       "\n",
       "    .dataframe thead th {\n",
       "        text-align: right;\n",
       "    }\n",
       "</style>\n",
       "<table border=\"1\" class=\"dataframe\">\n",
       "  <thead>\n",
       "    <tr style=\"text-align: right;\">\n",
       "      <th></th>\n",
       "      <th>title</th>\n",
       "      <th>author</th>\n",
       "      <th>date</th>\n",
       "      <th>views</th>\n",
       "      <th>likes</th>\n",
       "      <th>link</th>\n",
       "    </tr>\n",
       "  </thead>\n",
       "  <tbody>\n",
       "  </tbody>\n",
       "</table>\n",
       "</div>"
      ],
      "text/plain": [
       "Empty DataFrame\n",
       "Columns: [title, author, date, views, likes, link]\n",
       "Index: []"
      ]
     },
     "execution_count": 33,
     "metadata": {},
     "output_type": "execute_result"
    }
   ],
   "source": [
    "daTed.loc[(daTed['author'] == 'Debbie Millman') & (daTed['date'] == 'January 1970'), 'date'] = 'June 2020'\n",
    "daTed.loc[(daTed['title'] == 'Innovations in sleep') & (daTed['date'] == 'January 1970'), 'date'] = 'July 2020'\n",
    "daTed.loc[daTed['date'] == 'January 1970']"
   ]
  },
  {
   "cell_type": "code",
   "execution_count": 35,
   "metadata": {},
   "outputs": [],
   "source": [
    "df = pd.to_datetime(daTed['date'], format='%B %Y')"
   ]
  },
  {
   "cell_type": "markdown",
   "metadata": {},
   "source": [
    "## 2.  Looking at the data"
   ]
  },
  {
   "cell_type": "code",
   "execution_count": 48,
   "metadata": {},
   "outputs": [
    {
     "name": "stdout",
     "output_type": "stream",
     "text": [
      "---------------------------------------\n",
      "Statics statics data of field:  views\n",
      "---------------------------------------\n",
      "mean:  2061575.9579044117\n",
      "std:  3567097.765115676\n",
      "var:  12724186465893.252\n",
      "mode:  0    1300000\n",
      "Name: views, dtype: int64\n",
      "median:  1300000.0\n",
      "---------------------------------------\n",
      "---------------------------------------\n",
      "Statics statics data of field:  likes\n",
      "---------------------------------------\n",
      "mean:  62607.616727941175\n",
      "std:  107646.76946116687\n",
      "var:  11587826975.425608\n",
      "mode:  0    39000\n",
      "1    43000\n",
      "Name: likes, dtype: int64\n",
      "median:  40500.0\n",
      "---------------------------------------\n"
     ]
    }
   ],
   "source": [
    "def print_stats_field(df, field):\n",
    "    print(\"---------------------------------------\")\n",
    "    print(\"Statics statics data of field: \", field)\n",
    "    print(\"---------------------------------------\")\n",
    "    print(\"mean: \", df[field].mean())\n",
    "    print(\"std: \" , df[field].std())\n",
    "    print(\"var: \" , df[field].var())\n",
    "    print('mode: ' , df[field].mode())\n",
    "    print('median: ', df[field].median())\n",
    "    print(\"---------------------------------------\")\n",
    "\n",
    "print_stats_field(daTed, 'views')\n",
    "print_stats_field(daTed, 'likes')\n",
    "    "
   ]
  },
  {
   "cell_type": "markdown",
   "metadata": {},
   "source": [
    "## 3. Test Statistico"
   ]
  },
  {
   "cell_type": "markdown",
   "metadata": {},
   "source": [
    "## 4. Metodo Predittivo\n"
   ]
  },
  {
   "cell_type": "markdown",
   "metadata": {},
   "source": [
    "## 5. Clustering"
   ]
  }
 ],
 "metadata": {
  "colab": {
   "provenance": []
  },
  "kernelspec": {
   "display_name": "Python 3 (ipykernel)",
   "language": "python",
   "name": "python3"
  },
  "language_info": {
   "codemirror_mode": {
    "name": "ipython",
    "version": 3
   },
   "file_extension": ".py",
   "mimetype": "text/x-python",
   "name": "python",
   "nbconvert_exporter": "python",
   "pygments_lexer": "ipython3",
   "version": "3.10.12"
  }
 },
 "nbformat": 4,
 "nbformat_minor": 1
}
