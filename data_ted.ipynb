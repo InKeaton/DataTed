{
 "cells": [
  {
   "cell_type": "markdown",
   "metadata": {},
   "source": [
    "# Data Ted\n",
    "## An Analysis of the provided Ted Talks dataset\n",
    "---\n",
    "#### Matano Francesco S5253162\n",
    "#### Vassallo Edoardo S4965918 "
   ]
  },
  {
   "cell_type": "markdown",
   "metadata": {},
   "source": [
    "## Introduction\n",
    "\n",
    "We gaming boys\n"
   ]
  },
  {
   "cell_type": "markdown",
   "metadata": {},
   "source": [
    "## Imports\n"
   ]
  },
  {
   "cell_type": "code",
   "execution_count": 2,
   "metadata": {},
   "outputs": [],
   "source": [
    "import pandas as pd \n",
    "import matplotlib.pyplot as plt \n",
    "import numpy as np\n",
    "import scipy.stats as stats\n",
    "import sklearn"
   ]
  },
  {
   "cell_type": "code",
   "execution_count": 3,
   "metadata": {},
   "outputs": [],
   "source": [
    "\n",
    "daTed = pd.read_csv(\"secret_dataset/ted_main.csv\") # data_ted.csv\")"
   ]
  },
  {
   "cell_type": "code",
   "execution_count": 4,
   "metadata": {},
   "outputs": [
    {
     "name": "stdout",
     "output_type": "stream",
     "text": [
      "<class 'pandas.core.frame.DataFrame'>\n",
      "RangeIndex: 5440 entries, 0 to 5439\n",
      "Data columns (total 6 columns):\n",
      " #   Column  Non-Null Count  Dtype \n",
      "---  ------  --------------  ----- \n",
      " 0   title   5440 non-null   object\n",
      " 1   author  5439 non-null   object\n",
      " 2   date    5440 non-null   object\n",
      " 3   views   5440 non-null   int64 \n",
      " 4   likes   5440 non-null   int64 \n",
      " 5   link    5440 non-null   object\n",
      "dtypes: int64(2), object(4)\n",
      "memory usage: 255.1+ KB\n"
     ]
    }
   ],
   "source": [
    "daTed.info()"
   ]
  },
  {
   "cell_type": "markdown",
   "metadata": {},
   "source": [
    "> ## 0. Objectives\n",
    ">> ###  ????? (ancora da definire)"
   ]
  },
  {
   "cell_type": "markdown",
   "metadata": {},
   "source": [
    "## 1. Spring Cleaning\n",
    "+ Debby Millman 2020 June correct date\n",
    "+ Innovations in sleep 2020 July\n",
    "+ Substitute Nan author with Ted (1 row)"
   ]
  },
  {
   "cell_type": "code",
   "execution_count": 5,
   "metadata": {},
   "outputs": [
    {
     "name": "stdout",
     "output_type": "stream",
     "text": [
      "                   title author           date  views  likes  \\\n",
      "3039  Year In Ideas 2015    NaN  December 2015    532     15   \n",
      "\n",
      "                                          link  \n",
      "3039  https://ted.com/talks/year_in_ideas_2015  \n"
     ]
    }
   ],
   "source": [
    "test = daTed[daTed['author'].isnull()]\n",
    "print(test)"
   ]
  },
  {
   "cell_type": "code",
   "execution_count": 11,
   "metadata": {},
   "outputs": [
    {
     "name": "stdout",
     "output_type": "stream",
     "text": [
      "0      2021-12-01\n",
      "1      2022-02-01\n",
      "2      2021-09-01\n",
      "3      2021-10-01\n",
      "4      2021-10-01\n",
      "          ...    \n",
      "5435   2006-02-01\n",
      "5436   2006-02-01\n",
      "5437   2006-02-01\n",
      "5438   2006-02-01\n",
      "5439   2006-02-01\n",
      "Name: date, Length: 5440, dtype: datetime64[ns]\n"
     ]
    }
   ],
   "source": [
    "df = pd.to_datetime(daTed['date'], format='%B %Y')\n",
    "print(df)"
   ]
  },
  {
   "cell_type": "markdown",
   "metadata": {},
   "source": [
    "## 2.  Looking at the data"
   ]
  },
  {
   "cell_type": "markdown",
   "metadata": {},
   "source": [
    "## 3. Test Statistico"
   ]
  },
  {
   "cell_type": "markdown",
   "metadata": {},
   "source": [
    "## 4. Metodo Predittivo\n"
   ]
  },
  {
   "cell_type": "markdown",
   "metadata": {},
   "source": [
    "## 5. Clustering"
   ]
  }
 ],
 "metadata": {
  "colab": {
   "provenance": []
  },
  "kernelspec": {
   "display_name": "Python 3 (ipykernel)",
   "language": "python",
   "name": "python3"
  },
  "language_info": {
   "codemirror_mode": {
    "name": "ipython",
    "version": 3
   },
   "file_extension": ".py",
   "mimetype": "text/x-python",
   "name": "python",
   "nbconvert_exporter": "python",
   "pygments_lexer": "ipython3",
   "version": "3.11.8"
  }
 },
 "nbformat": 4,
 "nbformat_minor": 1
}
