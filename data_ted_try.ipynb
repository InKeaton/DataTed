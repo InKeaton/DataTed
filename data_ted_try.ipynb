{
 "cells": [
  {
   "cell_type": "markdown",
   "metadata": {},
   "source": [
    "# Data Ted\n",
    "## Analisi dei Ted Talk sul COVID-19\n",
    "---\n",
    "#### Matano Francesco S5253162\n",
    "#### Vassallo Edoardo S4965918 "
   ]
  },
  {
   "cell_type": "markdown",
   "metadata": {},
   "source": [
    "## Introduzione\n",
    "> ### Nel nostro progetto di Introduzione alla Data Science abbiamo deciso di dedicarlo alla visualizzazione e alla analisi del numero di like e di visualizzazioni inerenti ai Ted dedicati al COVID-19 durante il tempo.\n",
    "---"
   ]
  },
  {
   "cell_type": "markdown",
   "metadata": {},
   "source": [
    "# Codice\n",
    "> ## Librerie importate\n"
   ]
  },
  {
   "cell_type": "code",
   "execution_count": 80,
   "metadata": {},
   "outputs": [],
   "source": [
    "import pandas as pd \n",
    "import matplotlib.pyplot as plt \n",
    "import numpy as np\n",
    "import scipy.stats as stats\n",
    "import sklearn\n",
    "import re"
   ]
  },
  {
   "cell_type": "markdown",
   "metadata": {},
   "source": [
    "> ## Funzioni utilizzate per il notebook"
   ]
  },
  {
   "cell_type": "code",
   "execution_count": 29,
   "metadata": {},
   "outputs": [],
   "source": [
    "def print_stats_field(df, field):\n",
    "    print(\"---------------------------------------\")\n",
    "    print(\"Statics statics data of field: \", field)\n",
    "    print(\"---------------------------------------\")\n",
    "    print(\"mean:   \",  df[field].mean()  )\n",
    "    print(\"std:    \",  df[field].std()   ) \n",
    "    print(\"var:    \",  df[field].var()   )\n",
    "    print('mode:   ',  df[field].mode()[0]  )\n",
    "    print('median: ',  df[field].median())\n",
    "    print(\"---------------------------------------\")"
   ]
  },
  {
   "cell_type": "markdown",
   "metadata": {},
   "source": [
    "---"
   ]
  },
  {
   "cell_type": "markdown",
   "metadata": {},
   "source": [
    "# Import e Stampa del Dataset utilizzato nel progetto"
   ]
  },
  {
   "cell_type": "code",
   "execution_count": 30,
   "metadata": {},
   "outputs": [],
   "source": [
    "daTed = pd.read_csv(\"data_ted.csv\") # data_ted.csv\")"
   ]
  },
  {
   "cell_type": "code",
   "execution_count": 31,
   "metadata": {},
   "outputs": [
    {
     "name": "stdout",
     "output_type": "stream",
     "text": [
      "<class 'pandas.core.frame.DataFrame'>\n",
      "RangeIndex: 5440 entries, 0 to 5439\n",
      "Data columns (total 6 columns):\n",
      " #   Column  Non-Null Count  Dtype \n",
      "---  ------  --------------  ----- \n",
      " 0   title   5440 non-null   object\n",
      " 1   author  5439 non-null   object\n",
      " 2   date    5440 non-null   object\n",
      " 3   views   5440 non-null   int64 \n",
      " 4   likes   5440 non-null   int64 \n",
      " 5   link    5440 non-null   object\n",
      "dtypes: int64(2), object(4)\n",
      "memory usage: 255.1+ KB\n"
     ]
    }
   ],
   "source": [
    "daTed.info()"
   ]
  },
  {
   "cell_type": "markdown",
   "metadata": {},
   "source": [
    "## 0. Objectives\n",
    "> ###  Visualizzazione e studio dei TED Talk sul COVID-19 "
   ]
  },
  {
   "cell_type": "markdown",
   "metadata": {},
   "source": [
    "## 1. Spring Cleaning\n",
    "> + #### Substitute Nan author with Ted (1 row)\n",
    "> + #### Debby Millman 2020 June correct date\n",
    "> + #### Innovations in sleep 2020 July\n",
    "> + #### Verdere se il formato della data nei campi è corretto"
   ]
  },
  {
   "cell_type": "markdown",
   "metadata": {},
   "source": [
    "> + ##### Substitute Nan author with Ted (1 row)"
   ]
  },
  {
   "cell_type": "code",
   "execution_count": 32,
   "metadata": {},
   "outputs": [],
   "source": [
    "i = daTed['author'].isnull()\n",
    "daTed['author'] = np.where(daTed['author'].isnull() == True, 'Ted',  daTed['author'])"
   ]
  },
  {
   "cell_type": "markdown",
   "metadata": {},
   "source": [
    "> + ##### Debby Millman 2020 June correct date"
   ]
  },
  {
   "cell_type": "code",
   "execution_count": 33,
   "metadata": {},
   "outputs": [
    {
     "data": {
      "text/html": [
       "<div>\n",
       "<style scoped>\n",
       "    .dataframe tbody tr th:only-of-type {\n",
       "        vertical-align: middle;\n",
       "    }\n",
       "\n",
       "    .dataframe tbody tr th {\n",
       "        vertical-align: top;\n",
       "    }\n",
       "\n",
       "    .dataframe thead th {\n",
       "        text-align: right;\n",
       "    }\n",
       "</style>\n",
       "<table border=\"1\" class=\"dataframe\">\n",
       "  <thead>\n",
       "    <tr style=\"text-align: right;\">\n",
       "      <th></th>\n",
       "      <th>title</th>\n",
       "      <th>author</th>\n",
       "      <th>date</th>\n",
       "      <th>views</th>\n",
       "      <th>likes</th>\n",
       "      <th>link</th>\n",
       "    </tr>\n",
       "  </thead>\n",
       "  <tbody>\n",
       "    <tr>\n",
       "      <th>0</th>\n",
       "      <td>Climate action needs new frontline leadership</td>\n",
       "      <td>Ozawa Bineshi Albert</td>\n",
       "      <td>December 2021</td>\n",
       "      <td>404000</td>\n",
       "      <td>12000</td>\n",
       "      <td>https://ted.com/talks/ozawa_bineshi_albert_cli...</td>\n",
       "    </tr>\n",
       "    <tr>\n",
       "      <th>1</th>\n",
       "      <td>The dark history of the overthrow of Hawaii</td>\n",
       "      <td>Sydney Iaukea</td>\n",
       "      <td>February 2022</td>\n",
       "      <td>214000</td>\n",
       "      <td>6400</td>\n",
       "      <td>https://ted.com/talks/sydney_iaukea_the_dark_h...</td>\n",
       "    </tr>\n",
       "    <tr>\n",
       "      <th>2</th>\n",
       "      <td>How play can spark new ideas for your business</td>\n",
       "      <td>Martin Reeves</td>\n",
       "      <td>September 2021</td>\n",
       "      <td>412000</td>\n",
       "      <td>12000</td>\n",
       "      <td>https://ted.com/talks/martin_reeves_how_play_c...</td>\n",
       "    </tr>\n",
       "    <tr>\n",
       "      <th>3</th>\n",
       "      <td>Why is China appointing judges to combat clima...</td>\n",
       "      <td>James K. Thornton</td>\n",
       "      <td>October 2021</td>\n",
       "      <td>427000</td>\n",
       "      <td>12000</td>\n",
       "      <td>https://ted.com/talks/james_k_thornton_why_is_...</td>\n",
       "    </tr>\n",
       "    <tr>\n",
       "      <th>4</th>\n",
       "      <td>Cement's carbon problem — and 2 ways to fix it</td>\n",
       "      <td>Mahendra Singhi</td>\n",
       "      <td>October 2021</td>\n",
       "      <td>2400</td>\n",
       "      <td>72</td>\n",
       "      <td>https://ted.com/talks/mahendra_singhi_cement_s...</td>\n",
       "    </tr>\n",
       "  </tbody>\n",
       "</table>\n",
       "</div>"
      ],
      "text/plain": [
       "                                               title                author  \\\n",
       "0      Climate action needs new frontline leadership  Ozawa Bineshi Albert   \n",
       "1        The dark history of the overthrow of Hawaii         Sydney Iaukea   \n",
       "2     How play can spark new ideas for your business         Martin Reeves   \n",
       "3  Why is China appointing judges to combat clima...     James K. Thornton   \n",
       "4     Cement's carbon problem — and 2 ways to fix it       Mahendra Singhi   \n",
       "\n",
       "             date   views  likes  \\\n",
       "0   December 2021  404000  12000   \n",
       "1   February 2022  214000   6400   \n",
       "2  September 2021  412000  12000   \n",
       "3    October 2021  427000  12000   \n",
       "4    October 2021    2400     72   \n",
       "\n",
       "                                                link  \n",
       "0  https://ted.com/talks/ozawa_bineshi_albert_cli...  \n",
       "1  https://ted.com/talks/sydney_iaukea_the_dark_h...  \n",
       "2  https://ted.com/talks/martin_reeves_how_play_c...  \n",
       "3  https://ted.com/talks/james_k_thornton_why_is_...  \n",
       "4  https://ted.com/talks/mahendra_singhi_cement_s...  "
      ]
     },
     "execution_count": 33,
     "metadata": {},
     "output_type": "execute_result"
    }
   ],
   "source": [
    "daTed.loc[(daTed['author'] == 'Debbie Millman') & (daTed['date'] == 'January 1970'), 'date'] = 'June 2020'\n",
    "daTed.head()"
   ]
  },
  {
   "cell_type": "markdown",
   "metadata": {},
   "source": [
    "> + ##### Innovations in sleep 2020 July"
   ]
  },
  {
   "cell_type": "code",
   "execution_count": 34,
   "metadata": {},
   "outputs": [],
   "source": [
    "daTed.loc[(daTed['title'] == 'Innovations in sleep') & (daTed['date'] == 'January 1970'), 'date'] = 'July 2020'"
   ]
  },
  {
   "cell_type": "markdown",
   "metadata": {},
   "source": [
    "> + ##### Verdere se il formato della data nei campi è corretto"
   ]
  },
  {
   "cell_type": "code",
   "execution_count": 35,
   "metadata": {},
   "outputs": [],
   "source": [
    "daTed[\"date\"] = pd.to_datetime(daTed['date'], format='%B %Y')"
   ]
  },
  {
   "cell_type": "markdown",
   "metadata": {},
   "source": [
    "## 2.  Looking at the data"
   ]
  },
  {
   "cell_type": "markdown",
   "metadata": {},
   "source": [
    "> #### Visualizzazione: media, deviazione standard, varianza, moda, mediana"
   ]
  },
  {
   "cell_type": "code",
   "execution_count": 59,
   "metadata": {},
   "outputs": [
    {
     "name": "stdout",
     "output_type": "stream",
     "text": [
      "---------------------------------------\n",
      "Statics statics data of field:  views\n",
      "---------------------------------------\n",
      "mean:    2061575.9579044117\n",
      "std:     3567097.765115676\n",
      "var:     12724186465893.252\n",
      "mode:    1300000\n",
      "median:  1300000.0\n",
      "---------------------------------------\n",
      "---------------------------------------\n",
      "Statics statics data of field:  likes\n",
      "---------------------------------------\n",
      "mean:    62607.616727941175\n",
      "std:     107646.76946116687\n",
      "var:     11587826975.425608\n",
      "mode:    39000\n",
      "median:  40500.0\n",
      "---------------------------------------\n"
     ]
    }
   ],
   "source": [
    "print_stats_field(daTed, 'views')\n",
    "print_stats_field(daTed, 'likes') "
   ]
  },
  {
   "cell_type": "markdown",
   "metadata": {},
   "source": [
    "> #### Abbiamo poi deciso di prendere i TED talk che contenevano nel nome del titolo uno dei seguenti problemi di attualità: COVID e climate"
   ]
  },
  {
   "cell_type": "code",
   "execution_count": 161,
   "metadata": {},
   "outputs": [],
   "source": [
    "daClimate= daTed.loc[daTed[\"title\"].str.contains(\"climate\")]\n",
    "daCovid  = daTed.loc[daTed[\"title\"].str.contains(\"COVID\")]"
   ]
  },
  {
   "cell_type": "markdown",
   "metadata": {},
   "source": [
    "> #### Controllato le statistiche dei due nuovi dataframe raccolti, per vedere se questi argomenti raccogliessero un numero maggiore di like e di visualizzazioni rispetto alla media"
   ]
  },
  {
   "cell_type": "code",
   "execution_count": 162,
   "metadata": {},
   "outputs": [
    {
     "name": "stdout",
     "output_type": "stream",
     "text": [
      "--->daClimate\n",
      "---------------------------------------\n",
      "Statics statics data of field:  views\n",
      "---------------------------------------\n",
      "mean:    1376275.5813953488\n",
      "std:     1169497.4493281087\n",
      "var:     1367724283984.9521\n",
      "mode:    1200000\n",
      "median:  1300000.0\n",
      "---------------------------------------\n",
      "---------------------------------------\n",
      "Statics statics data of field:  likes\n",
      "---------------------------------------\n",
      "mean:    41930.813953488374\n",
      "std:     35453.671606598225\n",
      "var:     1256962830.388509\n",
      "mode:    39000\n",
      "median:  39000.0\n",
      "---------------------------------------\n",
      "--->daCovid\n",
      "---------------------------------------\n",
      "Statics statics data of field:  views\n",
      "---------------------------------------\n",
      "mean:    1087500.0\n",
      "std:     908274.100756629\n",
      "var:     824961842105.2632\n",
      "mode:    1300000\n",
      "median:  1250000.0\n",
      "---------------------------------------\n",
      "---------------------------------------\n",
      "Statics statics data of field:  likes\n",
      "---------------------------------------\n",
      "mean:    33212.45\n",
      "std:     27644.229340668437\n",
      "var:     764203415.8394737\n",
      "mode:    41000\n",
      "median:  39000.0\n",
      "---------------------------------------\n"
     ]
    }
   ],
   "source": [
    "print(\"--->daClimate\")\n",
    "print_stats_field(daClimate, 'views')\n",
    "print_stats_field(daClimate, 'likes') \n",
    "print(\"--->daCovid\")\n",
    "print_stats_field(daCovid, 'views')\n",
    "print_stats_field(daCovid, 'likes') "
   ]
  },
  {
   "cell_type": "code",
   "execution_count": 51,
   "metadata": {},
   "outputs": [
    {
     "data": {
      "text/plain": [
       "<AxesSubplot:xlabel='date', ylabel='views'>"
      ]
     },
     "execution_count": 51,
     "metadata": {},
     "output_type": "execute_result"
    },
    {
     "data": {
      "image/png": "[encoded data removed]",
      "text/plain": [
       "<Figure size 1080x216 with 1 Axes>"
      ]
     },
     "metadata": {
      "needs_background": "light"
     },
     "output_type": "display_data"
    }
   ],
   "source": [
    "daTed.plot.scatter(\"date\", \"views\", figsize=(15, 3)) "
   ]
  },
  {
   "cell_type": "markdown",
   "metadata": {},
   "source": [
    "> #### Dai due scatter plot visualizzate possiamo notare come il numero di visualizzazioni (e anche di like) col tempo sono aumentate raggiungendo un picco massimo nella decade 2010/2020 "
   ]
  },
  {
   "cell_type": "code",
   "execution_count": 8,
   "metadata": {},
   "outputs": [
    {
     "data": {
      "text/plain": [
       "<Axes: title={'center': 'Numero di video realizzati ogni anno'}, xlabel='anno di pubblicazione', ylabel='numero di video'>"
      ]
     },
     "execution_count": 8,
     "metadata": {},
     "output_type": "execute_result"
    },
    {
     "data": {
      "image/png": "[encoded data removed]",
      "text/plain": [
       "<Figure size 1500x300 with 1 Axes>"
      ]
     },
     "metadata": {},
     "output_type": "display_data"
    }
   ],
   "source": [
    "daTed.groupby(daTed.date.dt.year)['title'].count().plot(kind='bar', figsize=(15, 3), ylabel=\"numero di video\", xlabel=\"anno di pubblicazione\", title=\"Numero di video realizzati ogni anno\")"
   ]
  },
  {
   "cell_type": "code",
   "execution_count": 9,
   "metadata": {},
   "outputs": [
    {
     "data": {
      "text/plain": [
       "<Axes: title={'center': 'Numero di visualizzazioni medie per i video di ogni anno'}, xlabel='anno di pubblicazione', ylabel='visualizzazioni medie'>"
      ]
     },
     "execution_count": 9,
     "metadata": {},
     "output_type": "execute_result"
    },
    {
     "data": {
      "image/png": "[encoded data removed]",
      "text/plain": [
       "<Figure size 1500x300 with 1 Axes>"
      ]
     },
     "metadata": {},
     "output_type": "display_data"
    }
   ],
   "source": [
    "daTed.groupby(daTed.date.dt.year)['views'].mean().plot(kind='bar', figsize=(15, 3), ylabel=\"visualizzazioni medie\", xlabel=\"anno di pubblicazione\", title=\"Numero di visualizzazioni medie per i video di ogni anno\")"
   ]
  },
  {
   "cell_type": "code",
   "execution_count": 10,
   "metadata": {},
   "outputs": [
    {
     "data": {
      "text/plain": [
       "<Axes: title={'center': 'Numero di like medio per i video di ogni anno'}, xlabel='anno di pubblicazione', ylabel='Numero like medio'>"
      ]
     },
     "execution_count": 10,
     "metadata": {},
     "output_type": "execute_result"
    },
    {
     "data": {
      "image/png": "[encoded data removed]",
      "text/plain": [
       "<Figure size 1500x300 with 1 Axes>"
      ]
     },
     "metadata": {},
     "output_type": "display_data"
    }
   ],
   "source": [
    "daTed.groupby(daTed.date.dt.year)['likes'].mean().plot(kind='bar', figsize=(15, 3), ylabel=\"Numero like medio\", xlabel=\"anno di pubblicazione\", title=\"Numero di like medio per i video di ogni anno\")"
   ]
  },
  {
   "cell_type": "markdown",
   "metadata": {},
   "source": [
    "#### OLAP\n"
   ]
  },
  {
   "cell_type": "markdown",
   "metadata": {},
   "source": [
    "quantizzazioni"
   ]
  },
  {
   "cell_type": "code",
   "execution_count": 42,
   "metadata": {},
   "outputs": [
    {
     "data": {
      "text/html": [
       "<div>\n",
       "<style scoped>\n",
       "    .dataframe tbody tr th:only-of-type {\n",
       "        vertical-align: middle;\n",
       "    }\n",
       "\n",
       "    .dataframe tbody tr th {\n",
       "        vertical-align: top;\n",
       "    }\n",
       "\n",
       "    .dataframe thead th {\n",
       "        text-align: right;\n",
       "    }\n",
       "</style>\n",
       "<table border=\"1\" class=\"dataframe\">\n",
       "  <thead>\n",
       "    <tr style=\"text-align: right;\">\n",
       "      <th></th>\n",
       "      <th>title</th>\n",
       "      <th>author</th>\n",
       "      <th>date</th>\n",
       "      <th>views</th>\n",
       "      <th>likes</th>\n",
       "      <th>link</th>\n",
       "      <th>date_quant</th>\n",
       "    </tr>\n",
       "  </thead>\n",
       "  <tbody>\n",
       "    <tr>\n",
       "      <th>0</th>\n",
       "      <td>Climate action needs new frontline leadership</td>\n",
       "      <td>Ozawa Bineshi Albert</td>\n",
       "      <td>2021-12-01</td>\n",
       "      <td>404000</td>\n",
       "      <td>12000</td>\n",
       "      <td>https://ted.com/talks/ozawa_bineshi_albert_cli...</td>\n",
       "      <td>20's</td>\n",
       "    </tr>\n",
       "    <tr>\n",
       "      <th>1</th>\n",
       "      <td>The dark history of the overthrow of Hawaii</td>\n",
       "      <td>Sydney Iaukea</td>\n",
       "      <td>2022-02-01</td>\n",
       "      <td>214000</td>\n",
       "      <td>6400</td>\n",
       "      <td>https://ted.com/talks/sydney_iaukea_the_dark_h...</td>\n",
       "      <td>20's</td>\n",
       "    </tr>\n",
       "    <tr>\n",
       "      <th>2</th>\n",
       "      <td>How play can spark new ideas for your business</td>\n",
       "      <td>Martin Reeves</td>\n",
       "      <td>2021-09-01</td>\n",
       "      <td>412000</td>\n",
       "      <td>12000</td>\n",
       "      <td>https://ted.com/talks/martin_reeves_how_play_c...</td>\n",
       "      <td>20's</td>\n",
       "    </tr>\n",
       "    <tr>\n",
       "      <th>3</th>\n",
       "      <td>Why is China appointing judges to combat clima...</td>\n",
       "      <td>James K. Thornton</td>\n",
       "      <td>2021-10-01</td>\n",
       "      <td>427000</td>\n",
       "      <td>12000</td>\n",
       "      <td>https://ted.com/talks/james_k_thornton_why_is_...</td>\n",
       "      <td>20's</td>\n",
       "    </tr>\n",
       "    <tr>\n",
       "      <th>4</th>\n",
       "      <td>Cement's carbon problem — and 2 ways to fix it</td>\n",
       "      <td>Mahendra Singhi</td>\n",
       "      <td>2021-10-01</td>\n",
       "      <td>2400</td>\n",
       "      <td>72</td>\n",
       "      <td>https://ted.com/talks/mahendra_singhi_cement_s...</td>\n",
       "      <td>20's</td>\n",
       "    </tr>\n",
       "  </tbody>\n",
       "</table>\n",
       "</div>"
      ],
      "text/plain": [
       "                                               title                author  \\\n",
       "0      Climate action needs new frontline leadership  Ozawa Bineshi Albert   \n",
       "1        The dark history of the overthrow of Hawaii         Sydney Iaukea   \n",
       "2     How play can spark new ideas for your business         Martin Reeves   \n",
       "3  Why is China appointing judges to combat clima...     James K. Thornton   \n",
       "4     Cement's carbon problem — and 2 ways to fix it       Mahendra Singhi   \n",
       "\n",
       "        date   views  likes  \\\n",
       "0 2021-12-01  404000  12000   \n",
       "1 2022-02-01  214000   6400   \n",
       "2 2021-09-01  412000  12000   \n",
       "3 2021-10-01  427000  12000   \n",
       "4 2021-10-01    2400     72   \n",
       "\n",
       "                                                link date_quant  \n",
       "0  https://ted.com/talks/ozawa_bineshi_albert_cli...       20's  \n",
       "1  https://ted.com/talks/sydney_iaukea_the_dark_h...       20's  \n",
       "2  https://ted.com/talks/martin_reeves_how_play_c...       20's  \n",
       "3  https://ted.com/talks/james_k_thornton_why_is_...       20's  \n",
       "4  https://ted.com/talks/mahendra_singhi_cement_s...       20's  "
      ]
     },
     "execution_count": 42,
     "metadata": {},
     "output_type": "execute_result"
    }
   ],
   "source": [
    "# Quantizzazione per decade\n",
    "quantize_date = ['70\\'s', '80\\'s','90\\'s','00\\'s','10\\'s', '20\\'s']\n",
    "\n",
    "daTed.loc[daTed['date'].between(pd.to_datetime(\"1970\", format='%Y'), pd.to_datetime(\"1979\", format='%Y'), 'both'), 'date_quant'] = quantize_date[0]\n",
    "daTed.loc[daTed['date'].between(pd.to_datetime(\"1980\", format='%Y'), pd.to_datetime(\"1989\", format='%Y'), 'both'), 'date_quant'] = quantize_date[1]\n",
    "daTed.loc[daTed['date'].between(pd.to_datetime(\"1990\", format='%Y'), pd.to_datetime(\"1999\", format='%Y'), 'both'), 'date_quant'] = quantize_date[2]\n",
    "daTed.loc[daTed['date'].between(pd.to_datetime(\"2000\", format='%Y'), pd.to_datetime(\"2009\", format='%Y'), 'both'), 'date_quant'] = quantize_date[3]\n",
    "daTed.loc[daTed['date'].between(pd.to_datetime(\"2010\", format='%Y'), pd.to_datetime(\"2019\", format='%Y'), 'both'), 'date_quant'] = quantize_date[4]\n",
    "daTed.loc[daTed['date'].between(pd.to_datetime(\"2020\", format='%Y'), pd.to_datetime(\"2029\", format='%Y'), 'both'), 'date_quant'] = quantize_date[5]\n",
    "daTed.head()"
   ]
  },
  {
   "cell_type": "code",
   "execution_count": 43,
   "metadata": {},
   "outputs": [
    {
     "data": {
      "text/html": [
       "<div>\n",
       "<style scoped>\n",
       "    .dataframe tbody tr th:only-of-type {\n",
       "        vertical-align: middle;\n",
       "    }\n",
       "\n",
       "    .dataframe tbody tr th {\n",
       "        vertical-align: top;\n",
       "    }\n",
       "\n",
       "    .dataframe thead th {\n",
       "        text-align: right;\n",
       "    }\n",
       "</style>\n",
       "<table border=\"1\" class=\"dataframe\">\n",
       "  <thead>\n",
       "    <tr style=\"text-align: right;\">\n",
       "      <th></th>\n",
       "      <th>title</th>\n",
       "      <th>author</th>\n",
       "      <th>date</th>\n",
       "      <th>views</th>\n",
       "      <th>likes</th>\n",
       "      <th>link</th>\n",
       "      <th>date_quant</th>\n",
       "      <th>views_quant</th>\n",
       "    </tr>\n",
       "  </thead>\n",
       "  <tbody>\n",
       "    <tr>\n",
       "      <th>0</th>\n",
       "      <td>Climate action needs new frontline leadership</td>\n",
       "      <td>Ozawa Bineshi Albert</td>\n",
       "      <td>2021-12-01</td>\n",
       "      <td>404000</td>\n",
       "      <td>12000</td>\n",
       "      <td>https://ted.com/talks/ozawa_bineshi_albert_cli...</td>\n",
       "      <td>20's</td>\n",
       "      <td>100K-500K</td>\n",
       "    </tr>\n",
       "    <tr>\n",
       "      <th>1</th>\n",
       "      <td>The dark history of the overthrow of Hawaii</td>\n",
       "      <td>Sydney Iaukea</td>\n",
       "      <td>2022-02-01</td>\n",
       "      <td>214000</td>\n",
       "      <td>6400</td>\n",
       "      <td>https://ted.com/talks/sydney_iaukea_the_dark_h...</td>\n",
       "      <td>20's</td>\n",
       "      <td>100K-500K</td>\n",
       "    </tr>\n",
       "    <tr>\n",
       "      <th>2</th>\n",
       "      <td>How play can spark new ideas for your business</td>\n",
       "      <td>Martin Reeves</td>\n",
       "      <td>2021-09-01</td>\n",
       "      <td>412000</td>\n",
       "      <td>12000</td>\n",
       "      <td>https://ted.com/talks/martin_reeves_how_play_c...</td>\n",
       "      <td>20's</td>\n",
       "      <td>100K-500K</td>\n",
       "    </tr>\n",
       "    <tr>\n",
       "      <th>3</th>\n",
       "      <td>Why is China appointing judges to combat clima...</td>\n",
       "      <td>James K. Thornton</td>\n",
       "      <td>2021-10-01</td>\n",
       "      <td>427000</td>\n",
       "      <td>12000</td>\n",
       "      <td>https://ted.com/talks/james_k_thornton_why_is_...</td>\n",
       "      <td>20's</td>\n",
       "      <td>100K-500K</td>\n",
       "    </tr>\n",
       "    <tr>\n",
       "      <th>4</th>\n",
       "      <td>Cement's carbon problem — and 2 ways to fix it</td>\n",
       "      <td>Mahendra Singhi</td>\n",
       "      <td>2021-10-01</td>\n",
       "      <td>2400</td>\n",
       "      <td>72</td>\n",
       "      <td>https://ted.com/talks/mahendra_singhi_cement_s...</td>\n",
       "      <td>20's</td>\n",
       "      <td>&lt;10K</td>\n",
       "    </tr>\n",
       "  </tbody>\n",
       "</table>\n",
       "</div>"
      ],
      "text/plain": [
       "                                               title                author  \\\n",
       "0      Climate action needs new frontline leadership  Ozawa Bineshi Albert   \n",
       "1        The dark history of the overthrow of Hawaii         Sydney Iaukea   \n",
       "2     How play can spark new ideas for your business         Martin Reeves   \n",
       "3  Why is China appointing judges to combat clima...     James K. Thornton   \n",
       "4     Cement's carbon problem — and 2 ways to fix it       Mahendra Singhi   \n",
       "\n",
       "        date   views  likes  \\\n",
       "0 2021-12-01  404000  12000   \n",
       "1 2022-02-01  214000   6400   \n",
       "2 2021-09-01  412000  12000   \n",
       "3 2021-10-01  427000  12000   \n",
       "4 2021-10-01    2400     72   \n",
       "\n",
       "                                                link date_quant views_quant  \n",
       "0  https://ted.com/talks/ozawa_bineshi_albert_cli...       20's   100K-500K  \n",
       "1  https://ted.com/talks/sydney_iaukea_the_dark_h...       20's   100K-500K  \n",
       "2  https://ted.com/talks/martin_reeves_how_play_c...       20's   100K-500K  \n",
       "3  https://ted.com/talks/james_k_thornton_why_is_...       20's   100K-500K  \n",
       "4  https://ted.com/talks/mahendra_singhi_cement_s...       20's        <10K  "
      ]
     },
     "execution_count": 43,
     "metadata": {},
     "output_type": "execute_result"
    }
   ],
   "source": [
    "# Quantizzazione per quantità di views\n",
    "## p.s. max views: 72M\n",
    "quantize_views = ['<10K', '10K-100K','100K-500K','500K-1M','1M-20M', '>20M']\n",
    "\n",
    "daTed.loc[daTed['views'].between(0        , 9999    , 'both'), 'views_quant'] = quantize_views[0]\n",
    "daTed.loc[daTed['views'].between(10000    , 99999   , 'both'), 'views_quant'] = quantize_views[1]\n",
    "daTed.loc[daTed['views'].between(100000   , 499999  , 'both'), 'views_quant'] = quantize_views[2]\n",
    "daTed.loc[daTed['views'].between(500000   , 999999  , 'both'), 'views_quant'] = quantize_views[3]\n",
    "daTed.loc[daTed['views'].between(1000000  , 19999999, 'both'), 'views_quant'] = quantize_views[4]\n",
    "daTed.loc[daTed['views'].between(20000000 , 80000000, 'both'), 'views_quant'] = quantize_views[5]\n",
    "daTed.head()"
   ]
  },
  {
   "cell_type": "code",
   "execution_count": 44,
   "metadata": {},
   "outputs": [
    {
     "data": {
      "text/html": [
       "<div>\n",
       "<style scoped>\n",
       "    .dataframe tbody tr th:only-of-type {\n",
       "        vertical-align: middle;\n",
       "    }\n",
       "\n",
       "    .dataframe tbody tr th {\n",
       "        vertical-align: top;\n",
       "    }\n",
       "\n",
       "    .dataframe thead th {\n",
       "        text-align: right;\n",
       "    }\n",
       "</style>\n",
       "<table border=\"1\" class=\"dataframe\">\n",
       "  <thead>\n",
       "    <tr style=\"text-align: right;\">\n",
       "      <th></th>\n",
       "      <th>title</th>\n",
       "      <th>author</th>\n",
       "      <th>date</th>\n",
       "      <th>views</th>\n",
       "      <th>likes</th>\n",
       "      <th>link</th>\n",
       "      <th>date_quant</th>\n",
       "      <th>views_quant</th>\n",
       "      <th>likes_quant</th>\n",
       "    </tr>\n",
       "  </thead>\n",
       "  <tbody>\n",
       "    <tr>\n",
       "      <th>0</th>\n",
       "      <td>Climate action needs new frontline leadership</td>\n",
       "      <td>Ozawa Bineshi Albert</td>\n",
       "      <td>2021-12-01</td>\n",
       "      <td>404000</td>\n",
       "      <td>12000</td>\n",
       "      <td>https://ted.com/talks/ozawa_bineshi_albert_cli...</td>\n",
       "      <td>20's</td>\n",
       "      <td>100K-500K</td>\n",
       "      <td>10K-100K</td>\n",
       "    </tr>\n",
       "    <tr>\n",
       "      <th>1</th>\n",
       "      <td>The dark history of the overthrow of Hawaii</td>\n",
       "      <td>Sydney Iaukea</td>\n",
       "      <td>2022-02-01</td>\n",
       "      <td>214000</td>\n",
       "      <td>6400</td>\n",
       "      <td>https://ted.com/talks/sydney_iaukea_the_dark_h...</td>\n",
       "      <td>20's</td>\n",
       "      <td>100K-500K</td>\n",
       "      <td>&lt;10K</td>\n",
       "    </tr>\n",
       "    <tr>\n",
       "      <th>2</th>\n",
       "      <td>How play can spark new ideas for your business</td>\n",
       "      <td>Martin Reeves</td>\n",
       "      <td>2021-09-01</td>\n",
       "      <td>412000</td>\n",
       "      <td>12000</td>\n",
       "      <td>https://ted.com/talks/martin_reeves_how_play_c...</td>\n",
       "      <td>20's</td>\n",
       "      <td>100K-500K</td>\n",
       "      <td>10K-100K</td>\n",
       "    </tr>\n",
       "    <tr>\n",
       "      <th>3</th>\n",
       "      <td>Why is China appointing judges to combat clima...</td>\n",
       "      <td>James K. Thornton</td>\n",
       "      <td>2021-10-01</td>\n",
       "      <td>427000</td>\n",
       "      <td>12000</td>\n",
       "      <td>https://ted.com/talks/james_k_thornton_why_is_...</td>\n",
       "      <td>20's</td>\n",
       "      <td>100K-500K</td>\n",
       "      <td>10K-100K</td>\n",
       "    </tr>\n",
       "    <tr>\n",
       "      <th>4</th>\n",
       "      <td>Cement's carbon problem — and 2 ways to fix it</td>\n",
       "      <td>Mahendra Singhi</td>\n",
       "      <td>2021-10-01</td>\n",
       "      <td>2400</td>\n",
       "      <td>72</td>\n",
       "      <td>https://ted.com/talks/mahendra_singhi_cement_s...</td>\n",
       "      <td>20's</td>\n",
       "      <td>&lt;10K</td>\n",
       "      <td>&lt;10K</td>\n",
       "    </tr>\n",
       "  </tbody>\n",
       "</table>\n",
       "</div>"
      ],
      "text/plain": [
       "                                               title                author  \\\n",
       "0      Climate action needs new frontline leadership  Ozawa Bineshi Albert   \n",
       "1        The dark history of the overthrow of Hawaii         Sydney Iaukea   \n",
       "2     How play can spark new ideas for your business         Martin Reeves   \n",
       "3  Why is China appointing judges to combat clima...     James K. Thornton   \n",
       "4     Cement's carbon problem — and 2 ways to fix it       Mahendra Singhi   \n",
       "\n",
       "        date   views  likes  \\\n",
       "0 2021-12-01  404000  12000   \n",
       "1 2022-02-01  214000   6400   \n",
       "2 2021-09-01  412000  12000   \n",
       "3 2021-10-01  427000  12000   \n",
       "4 2021-10-01    2400     72   \n",
       "\n",
       "                                                link date_quant views_quant  \\\n",
       "0  https://ted.com/talks/ozawa_bineshi_albert_cli...       20's   100K-500K   \n",
       "1  https://ted.com/talks/sydney_iaukea_the_dark_h...       20's   100K-500K   \n",
       "2  https://ted.com/talks/martin_reeves_how_play_c...       20's   100K-500K   \n",
       "3  https://ted.com/talks/james_k_thornton_why_is_...       20's   100K-500K   \n",
       "4  https://ted.com/talks/mahendra_singhi_cement_s...       20's        <10K   \n",
       "\n",
       "  likes_quant  \n",
       "0    10K-100K  \n",
       "1        <10K  \n",
       "2    10K-100K  \n",
       "3    10K-100K  \n",
       "4        <10K  "
      ]
     },
     "execution_count": 44,
     "metadata": {},
     "output_type": "execute_result"
    }
   ],
   "source": [
    "# Quantizzazione per quantità di likes\n",
    "## p.s. max likes: 2.1M\n",
    "quantize_likes = ['<10K', '10K-100K','100K-500K','500K-1M', '>1M']\n",
    "\n",
    "daTed.loc[daTed['likes'].between(0       , 9999    , 'both'), 'likes_quant'] = quantize_likes[0]\n",
    "daTed.loc[daTed['likes'].between(10000   , 99999   , 'both'), 'likes_quant'] = quantize_likes[1]\n",
    "daTed.loc[daTed['likes'].between(100000  , 499999  , 'both'), 'likes_quant'] = quantize_likes[2]\n",
    "daTed.loc[daTed['likes'].between(500000  , 999999  , 'both'), 'likes_quant'] = quantize_likes[3]\n",
    "daTed.loc[daTed['likes'].between(1000000 , 1000000 , 'both'), 'likes_quant'] = quantize_likes[4]\n",
    "daTed.head()"
   ]
  },
  {
   "cell_type": "code",
   "execution_count": 14,
   "metadata": {},
   "outputs": [],
   "source": [
    "# costruzione OLAP\n",
    "OLAP = np.zeros((len(quantize_likes) , len(quantize_views) , len(quantize_date)))\n",
    "\n",
    "for z in range(0, len(quantize_date)):\n",
    "  ted_date = daTed[daTed['date_quant'] == quantize_date[z]]\n",
    "  for j in range(0, len(quantize_views)):\n",
    "    for i in range(0, len(quantize_likes)):\n",
    "      OLAP[i,j,z] = np.sum((ted_date['views_quant'] == quantize_views[j]) & (ted_date['likes_quant'] == quantize_likes[i])) "
   ]
  },
  {
   "cell_type": "code",
   "execution_count": 15,
   "metadata": {},
   "outputs": [
    {
     "data": {
      "text/plain": [
       "<matplotlib.colorbar.Colorbar at 0x7fbc504e3350>"
      ]
     },
     "execution_count": 15,
     "metadata": {},
     "output_type": "execute_result"
    },
    {
     "data": {
      "image/png": "[encoded data removed]",
      "text/plain": [
       "<Figure size 640x480 with 2 Axes>"
      ]
     },
     "metadata": {},
     "output_type": "display_data"
    }
   ],
   "source": [
    "# Visualizziamo la matrice\n",
    "plt.figure()\n",
    "plt.imshow(OLAP[:,:,3])\n",
    "plt.title('SLICING PER DECADE (2000\\'s)')\n",
    "plt.xlabel('Views')\n",
    "plt.ylabel('Likes')\n",
    "plt.colorbar()"
   ]
  },
  {
   "cell_type": "code",
   "execution_count": 57,
   "metadata": {},
   "outputs": [
    {
     "ename": "NameError",
     "evalue": "name 'OLAP' is not defined",
     "output_type": "error",
     "traceback": [
      "\u001b[0;31m---------------------------------------------------------------------------\u001b[0m",
      "\u001b[0;31mNameError\u001b[0m                                 Traceback (most recent call last)",
      "\u001b[0;32m/tmp/ipykernel_220871/1336918190.py\u001b[0m in \u001b[0;36m<module>\u001b[0;34m\u001b[0m\n\u001b[1;32m      1\u001b[0m \u001b[0;31m# Slicing\u001b[0m\u001b[0;34m\u001b[0m\u001b[0;34m\u001b[0m\u001b[0m\n\u001b[0;32m----> 2\u001b[0;31m \u001b[0mslice_2010\u001b[0m \u001b[0;34m=\u001b[0m \u001b[0mOLAP\u001b[0m\u001b[0;34m[\u001b[0m\u001b[0;34m:\u001b[0m\u001b[0;34m,\u001b[0m\u001b[0;34m:\u001b[0m\u001b[0;34m,\u001b[0m\u001b[0;36m4\u001b[0m\u001b[0;34m]\u001b[0m\u001b[0;34m\u001b[0m\u001b[0;34m\u001b[0m\u001b[0m\n\u001b[0m\u001b[1;32m      3\u001b[0m \u001b[0;34m\u001b[0m\u001b[0m\n\u001b[1;32m      4\u001b[0m \u001b[0;31m#codice qui\u001b[0m\u001b[0;34m\u001b[0m\u001b[0;34m\u001b[0m\u001b[0m\n\u001b[1;32m      5\u001b[0m \u001b[0mplt\u001b[0m\u001b[0;34m.\u001b[0m\u001b[0mfigure\u001b[0m\u001b[0;34m(\u001b[0m\u001b[0;34m)\u001b[0m\u001b[0;34m\u001b[0m\u001b[0;34m\u001b[0m\u001b[0m\n",
      "\u001b[0;31mNameError\u001b[0m: name 'OLAP' is not defined"
     ]
    }
   ],
   "source": [
    "# Slicing\n",
    "slice_2010 = OLAP[:,:,4]\n",
    "\n",
    "#codice qui \n",
    "plt.figure()\n",
    "plt.title('Video del 10\\' rispetto ai like e visualizzazioni')\n",
    "plt.xlabel('Likes Quantizzati')\n",
    "plt.ylabel('Numero Video')\n",
    "plt.plot(slice_2010[:,:])\n",
    "plt.legend(quantize_views, title=\"numero di views\")"
   ]
  },
  {
   "cell_type": "code",
   "execution_count": 26,
   "metadata": {},
   "outputs": [
    {
     "data": {
      "text/plain": [
       "<BarContainer object of 6 artists>"
      ]
     },
     "execution_count": 26,
     "metadata": {},
     "output_type": "execute_result"
    },
    {
     "data": {
      "image/png": "[encoded data removed]",
      "text/plain": [
       "<Figure size 640x480 with 1 Axes>"
      ]
     },
     "metadata": {},
     "output_type": "display_data"
    }
   ],
   "source": [
    "# dicing\n",
    "plt.title('test')\n",
    "plt.ylabel('numero di video')\n",
    "plt.xlabel(\"decade\")\n",
    "plt.bar(quantize_date, OLAP[4,5,:])"
   ]
  },
  {
   "cell_type": "markdown",
   "metadata": {},
   "source": [
    "## 3. Test Statistico"
   ]
  },
  {
   "cell_type": "markdown",
   "metadata": {},
   "source": [
    "## 4. Metodo Predittivo\n"
   ]
  },
  {
   "cell_type": "markdown",
   "metadata": {},
   "source": [
    "## 5. Clustering"
   ]
  }
 ],
 "metadata": {
  "colab": {
   "provenance": []
  },
  "kernelspec": {
   "display_name": "Python 3 (ipykernel)",
   "language": "python",
   "name": "python3"
  },
  "language_info": {
   "codemirror_mode": {
    "name": "ipython",
    "version": 3
   },
   "file_extension": ".py",
   "mimetype": "text/x-python",
   "name": "python",
   "nbconvert_exporter": "python",
   "pygments_lexer": "ipython3",
   "version": "3.10.12"
  }
 },
 "nbformat": 4,
 "nbformat_minor": 1
}
